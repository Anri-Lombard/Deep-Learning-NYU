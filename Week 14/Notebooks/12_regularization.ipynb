{
  "cells": [
    {
      "cell_type": "markdown",
      "metadata": {
        "id": "H7VvY3Gt3j8I"
      },
      "source": [
        "## Regularisation in NNs¶"
      ]
    },
    {
      "cell_type": "markdown",
      "metadata": {
        "id": "JYl16kwj3j8P"
      },
      "source": [
        "Before we start doing anything, I think it's important to understand for NLP, this is the intuitive process on what we are trying to do when we are processing our data in the IMDB dataset:\n",
        "1. Tokenization: break sentence into individual words\n",
        "    - Before: `\"PyTorch seems really easy to use!\"`\n",
        "    - After: `[\"PyTorch\", \"seems\", \"really\", \"easy\", \"to\", \"use\", \"!\"]`\n",
        "2. Building vocabulary: build an index of words associated with unique numbers\n",
        "    - Before: `[\"PyTorch\", \"seems\", \"really\", \"easy\", \"to\", \"use\", \"!\"]`\n",
        "    - After: `{\"Pytorch: 0, \"seems\": 1, \"really\": 2, ...}`\n",
        "3. Convert to numerals: map words to unique numbers (indices)\n",
        "    - Before: `{\"Pytorch: 0, \"seems\": 1, \"really\": 2, ...}`\n",
        "    - After: `[0, 1, 2, ...]`\n",
        "4. Embedding look-up: map sentences (indices now) to fixed matrices\n",
        "    - ```[[0.1, 0.4, 0.3],\n",
        "       [0.8, 0.1, 0.5],\n",
        "       ...]```"
      ]
    },
    {
      "cell_type": "code",
      "source": [
        "!pip install cmp_version\n",
        "!pip install torchtext==0.9.0"
      ],
      "metadata": {
        "colab": {
          "base_uri": "https://localhost:8080/",
          "height": 633
        },
        "id": "kv84YSZX3MZ0",
        "outputId": "197a17e2-8f0a-4327-ace5-4dcb23a088cc"
      },
      "execution_count": 8,
      "outputs": [
        {
          "output_type": "stream",
          "name": "stdout",
          "text": [
            "Looking in indexes: https://pypi.org/simple, https://us-python.pkg.dev/colab-wheels/public/simple/\n",
            "Requirement already satisfied: cmp_version in /usr/local/lib/python3.7/dist-packages (3.0.0)\n",
            "Looking in indexes: https://pypi.org/simple, https://us-python.pkg.dev/colab-wheels/public/simple/\n",
            "Collecting torchtext==0.9.0\n",
            "  Downloading torchtext-0.9.0-cp37-cp37m-manylinux1_x86_64.whl (7.1 MB)\n",
            "\u001b[K     |████████████████████████████████| 7.1 MB 4.4 MB/s \n",
            "\u001b[?25hRequirement already satisfied: requests in /usr/local/lib/python3.7/dist-packages (from torchtext==0.9.0) (2.23.0)\n",
            "Requirement already satisfied: numpy in /usr/local/lib/python3.7/dist-packages (from torchtext==0.9.0) (1.21.6)\n",
            "Requirement already satisfied: tqdm in /usr/local/lib/python3.7/dist-packages (from torchtext==0.9.0) (4.64.1)\n",
            "Collecting torch==1.8.0\n",
            "  Downloading torch-1.8.0-cp37-cp37m-manylinux1_x86_64.whl (735.5 MB)\n",
            "\u001b[K     |████████████████████████████████| 735.5 MB 14 kB/s \n",
            "\u001b[?25hRequirement already satisfied: typing-extensions in /usr/local/lib/python3.7/dist-packages (from torch==1.8.0->torchtext==0.9.0) (4.1.1)\n",
            "Requirement already satisfied: idna<3,>=2.5 in /usr/local/lib/python3.7/dist-packages (from requests->torchtext==0.9.0) (2.10)\n",
            "Requirement already satisfied: urllib3!=1.25.0,!=1.25.1,<1.26,>=1.21.1 in /usr/local/lib/python3.7/dist-packages (from requests->torchtext==0.9.0) (1.24.3)\n",
            "Requirement already satisfied: certifi>=2017.4.17 in /usr/local/lib/python3.7/dist-packages (from requests->torchtext==0.9.0) (2022.9.24)\n",
            "Requirement already satisfied: chardet<4,>=3.0.2 in /usr/local/lib/python3.7/dist-packages (from requests->torchtext==0.9.0) (3.0.4)\n",
            "Installing collected packages: torch, torchtext\n",
            "  Attempting uninstall: torch\n",
            "    Found existing installation: torch 1.12.1+cu113\n",
            "    Uninstalling torch-1.12.1+cu113:\n",
            "      Successfully uninstalled torch-1.12.1+cu113\n",
            "  Attempting uninstall: torchtext\n",
            "    Found existing installation: torchtext 0.13.1\n",
            "    Uninstalling torchtext-0.13.1:\n",
            "      Successfully uninstalled torchtext-0.13.1\n",
            "\u001b[31mERROR: pip's dependency resolver does not currently take into account all the packages that are installed. This behaviour is the source of the following dependency conflicts.\n",
            "torchvision 0.13.1+cu113 requires torch==1.12.1, but you have torch 1.8.0 which is incompatible.\n",
            "torchaudio 0.12.1+cu113 requires torch==1.12.1, but you have torch 1.8.0 which is incompatible.\u001b[0m\n",
            "Successfully installed torch-1.8.0 torchtext-0.9.0\n"
          ]
        },
        {
          "output_type": "display_data",
          "data": {
            "application/vnd.colab-display-data+json": {
              "pip_warning": {
                "packages": [
                  "torch",
                  "torchtext"
                ]
              }
            }
          },
          "metadata": {}
        }
      ]
    },
    {
      "cell_type": "code",
      "execution_count": 1,
      "metadata": {
        "id": "oMDvg7NV3j8T"
      },
      "outputs": [],
      "source": [
        "# Critical plotting imports\n",
        "import matplotlib.pyplot as plt\n",
        "%matplotlib inline\n",
        "\n",
        "# Checnking for module version \n",
        "from cmp_version import cmp_version \n",
        "\n",
        "# PyTorch imports\n",
        "from torchtext import __version__ as ttver\n",
        "# https://github.com/pytorch/text/releases/tag/v0.9.0-rc5\n",
        "if cmp_version(ttver,\"0.9.0\")>=0: \n",
        "    import torchtext\n",
        "    from torchtext.legacy import data, datasets\n",
        "else:\n",
        "    from torchtext import data, datasets\n",
        "import torch\n",
        "import torch.nn as nn\n",
        "import torch.nn.functional as F\n",
        "\n",
        "# Checking for iterable objects\n",
        "import collections\n",
        "import random"
      ]
    },
    {
      "cell_type": "code",
      "execution_count": 2,
      "metadata": {
        "id": "lxXO5ntH3j8X"
      },
      "outputs": [],
      "source": [
        "# Set seed\n",
        "torch.manual_seed(1337)\n",
        "if torch.cuda.is_available():\n",
        "    torch.cuda.manual_seed_all(1337)"
      ]
    },
    {
      "cell_type": "code",
      "execution_count": 3,
      "metadata": {
        "id": "yKavPq0g3j8Z"
      },
      "outputs": [],
      "source": [
        "# Set plotting style\n",
        "plt.style.use(('dark_background', 'bmh'))\n",
        "plt.rc('axes', facecolor='none')\n",
        "plt.rc('figure', figsize=(16, 4))"
      ]
    },
    {
      "cell_type": "code",
      "execution_count": 4,
      "metadata": {
        "id": "rS2znGqW3j8b"
      },
      "outputs": [],
      "source": [
        "# Create instances of fields\n",
        "# The important field here is fix_length: all examples using this field will be padded to, or None for flexible sequence lengths\n",
        "# We are fixing this because we will be using a FNN not an LSTM/RNN/GRU where we can go through uneven sequence lengths\n",
        "max_len = 80\n",
        "text = data.Field(sequential=True, fix_length=max_len, batch_first=True, lower=True, dtype=torch.long)\n",
        "label = data.LabelField(sequential=False, dtype=torch.float)"
      ]
    },
    {
      "cell_type": "code",
      "execution_count": 5,
      "metadata": {
        "colab": {
          "base_uri": "https://localhost:8080/"
        },
        "id": "SUDr9Lzd3j8f",
        "outputId": "d3d2bcba-5e9e-4757-8701-71a45f915183"
      },
      "outputs": [
        {
          "output_type": "stream",
          "name": "stdout",
          "text": [
            "downloading aclImdb_v1.tar.gz\n"
          ]
        },
        {
          "output_type": "stream",
          "name": "stderr",
          "text": [
            "aclImdb_v1.tar.gz: 100%|██████████| 84.1M/84.1M [00:05<00:00, 16.1MB/s]\n"
          ]
        }
      ],
      "source": [
        "# Calling splits() class method of datasets.IMDB to return a torchtext.data.Dataset object\n",
        "datasets.IMDB.download('./')\n",
        "ds_train, ds_test = datasets.IMDB.splits(text, label, path='./imdb/aclImdb/')"
      ]
    },
    {
      "cell_type": "code",
      "execution_count": 6,
      "metadata": {
        "colab": {
          "base_uri": "https://localhost:8080/"
        },
        "id": "RUDYFjpQ3j8g",
        "outputId": "bc5fe3e9-a9bc-4e43-b07f-32640b0a1a12"
      },
      "outputs": [
        {
          "output_type": "stream",
          "name": "stdout",
          "text": [
            "train :  25000\n",
            "test :  25000\n",
            "train.fields : {'text': <torchtext.legacy.data.field.Field object at 0x7f1fb16273d0>, 'label': <torchtext.legacy.data.field.LabelField object at 0x7f2004ac5d10>}\n"
          ]
        }
      ],
      "source": [
        "# Training and test set each 25k samples\n",
        "# 2 fields due to the way we split above\n",
        "print('train : ', len(ds_train))\n",
        "print('test : ', len(ds_test))\n",
        "print('train.fields :', ds_train.fields)"
      ]
    },
    {
      "cell_type": "code",
      "execution_count": 7,
      "metadata": {
        "id": "G5M-6Zwy3j8i"
      },
      "outputs": [],
      "source": [
        "# Get validation set\n",
        "seed_num = 1337\n",
        "ds_train, ds_valid = ds_train.split(random_state=random.seed(seed_num))"
      ]
    },
    {
      "cell_type": "code",
      "execution_count": 8,
      "metadata": {
        "colab": {
          "base_uri": "https://localhost:8080/"
        },
        "id": "CiJxFXPZ3j8j",
        "outputId": "ffdf4488-8d52-4068-ad09-fbe6a569c53b"
      },
      "outputs": [
        {
          "output_type": "stream",
          "name": "stdout",
          "text": [
            "train :  17500\n",
            "valid :  7500\n",
            "valid :  25000\n"
          ]
        }
      ],
      "source": [
        "# Now we've training, validation and test set\n",
        "print('train : ', len(ds_train))\n",
        "print('valid : ', len(ds_valid))\n",
        "print('valid : ', len(ds_test))"
      ]
    },
    {
      "cell_type": "code",
      "execution_count": 9,
      "metadata": {
        "id": "-9Wf0CWi3j8l"
      },
      "outputs": [],
      "source": [
        "# Build vocabulary\n",
        "# num_words = 25000\n",
        "num_words = 1000\n",
        "text.build_vocab(ds_train, max_size=num_words)\n",
        "label.build_vocab(ds_train)"
      ]
    },
    {
      "cell_type": "code",
      "execution_count": 10,
      "metadata": {
        "colab": {
          "base_uri": "https://localhost:8080/"
        },
        "id": "5O6TzdlI3j8n",
        "outputId": "3aa5ef70-c099-4a4b-8a5c-a7b0dc1c228c"
      },
      "outputs": [
        {
          "output_type": "stream",
          "name": "stdout",
          "text": [
            "Vocabulary size: 1002\n",
            "Label size: 2\n"
          ]
        }
      ],
      "source": [
        "# Print vocab size\n",
        "print('Vocabulary size: {}'.format(len(text.vocab)))\n",
        "print('Label size: {}'.format(len(label.vocab)))"
      ]
    },
    {
      "cell_type": "code",
      "execution_count": 11,
      "metadata": {
        "colab": {
          "base_uri": "https://localhost:8080/"
        },
        "id": "fm2sda4_3j8p",
        "outputId": "a8931ad1-e490-45f4-a5c8-9ceadd365f03"
      },
      "outputs": [
        {
          "output_type": "stream",
          "name": "stdout",
          "text": [
            "[('the', 226289), ('a', 112125), ('and', 111041), ('of', 101484), ('to', 94150), ('is', 73125), ('in', 63215), ('i', 49325), ('this', 48849), ('that', 46478)]\n"
          ]
        }
      ],
      "source": [
        "# Print most common vocabulary text\n",
        "most_common_samples = 10\n",
        "print(text.vocab.freqs.most_common(most_common_samples))"
      ]
    },
    {
      "cell_type": "code",
      "execution_count": 12,
      "metadata": {
        "colab": {
          "base_uri": "https://localhost:8080/"
        },
        "id": "tRU5XXtb3j8q",
        "outputId": "9def4654-abf5-4c09-8b1a-afec6159c5e9"
      },
      "outputs": [
        {
          "output_type": "stream",
          "name": "stdout",
          "text": [
            "[('neg', 8835), ('pos', 8665)]\n"
          ]
        }
      ],
      "source": [
        "# Print most common labels\n",
        "print(label.vocab.freqs.most_common())"
      ]
    },
    {
      "cell_type": "code",
      "execution_count": 13,
      "metadata": {
        "colab": {
          "base_uri": "https://localhost:8080/",
          "height": 37
        },
        "id": "Ll2m5LSq3j8t",
        "outputId": "9b17a63c-d359-4434-f837-7d738d175008"
      },
      "outputs": [
        {
          "output_type": "execute_result",
          "data": {
            "text/plain": [
              "'neg'"
            ],
            "application/vnd.google.colaboratory.intrinsic+json": {
              "type": "string"
            }
          },
          "metadata": {},
          "execution_count": 13
        }
      ],
      "source": [
        "# Sample 0 label\n",
        "ds_train[0].label"
      ]
    },
    {
      "cell_type": "code",
      "execution_count": 14,
      "metadata": {
        "scrolled": true,
        "colab": {
          "base_uri": "https://localhost:8080/"
        },
        "id": "h0m6fhLs3j8u",
        "outputId": "66c653a1-9d50-49f7-e35c-252fcdfb513c"
      },
      "outputs": [
        {
          "output_type": "execute_result",
          "data": {
            "text/plain": [
              "['this',\n",
              " 'film',\n",
              " 'was',\n",
              " 'bad.',\n",
              " 'bad',\n",
              " 'acting,',\n",
              " 'bad',\n",
              " 'directing,',\n",
              " 'bad',\n",
              " 'writing.',\n",
              " 'but',\n",
              " 'it',\n",
              " \"wasn't\",\n",
              " 'bad',\n",
              " 'in',\n",
              " 'a',\n",
              " 'funny',\n",
              " 'way.',\n",
              " 'it',\n",
              " 'was',\n",
              " 'bad',\n",
              " 'in',\n",
              " 'a',\n",
              " 'boring',\n",
              " 'way.',\n",
              " 'i',\n",
              " 'watched',\n",
              " '\"surface',\n",
              " 'to',\n",
              " 'air\"',\n",
              " 'because',\n",
              " 'i',\n",
              " 'thought',\n",
              " 'it',\n",
              " 'might',\n",
              " 'be',\n",
              " 'a',\n",
              " 'laugh.',\n",
              " 'it',\n",
              " \"wasn't.\",\n",
              " \"don't\",\n",
              " 'make',\n",
              " 'the',\n",
              " 'mistake',\n",
              " 'i',\n",
              " 'did.',\n",
              " 'there',\n",
              " 'are',\n",
              " 'plenty',\n",
              " 'of',\n",
              " 'more',\n",
              " 'enjoyable',\n",
              " 'ways',\n",
              " 'to',\n",
              " 'spend',\n",
              " 'an',\n",
              " 'hour',\n",
              " 'and',\n",
              " 'a',\n",
              " 'half',\n",
              " 'such',\n",
              " 'as',\n",
              " 'watching',\n",
              " 'paint',\n",
              " 'dry',\n",
              " 'or',\n",
              " 'reading',\n",
              " 'the',\n",
              " 'dictionary.',\n",
              " 'seriously.']"
            ]
          },
          "metadata": {},
          "execution_count": 14
        }
      ],
      "source": [
        "# Sample 0 text: broken down into individual portions\n",
        "ds_train[0].text"
      ]
    },
    {
      "cell_type": "code",
      "execution_count": 15,
      "metadata": {
        "colab": {
          "base_uri": "https://localhost:8080/"
        },
        "id": "dmKxPDjE3j8w",
        "outputId": "b0cb6491-64ca-43b8-e0d6-af0615a1d644"
      },
      "outputs": [
        {
          "output_type": "stream",
          "name": "stdout",
          "text": [
            "this film was bad. bad acting, bad directing, bad writing. but it wasn't bad in a funny way. it was bad in a boring way. i watched \"surface to air\" because i thought it might be a laugh. it wasn't. don't make the mistake i did. there are plenty of more enjoyable ways to spend an hour and a half such as watching paint dry or reading the dictionary. seriously.\n"
          ]
        }
      ],
      "source": [
        "# Sample 0 text: human readeable sample\n",
        "def show_text(sample):\n",
        "    print(' '.join(word for word in sample))\n",
        "    \n",
        "show_text(ds_train[0].text)"
      ]
    },
    {
      "cell_type": "code",
      "execution_count": 16,
      "metadata": {
        "id": "jGQox4vS3j8x"
      },
      "outputs": [],
      "source": [
        "# Create and iterable object for our training, validation and testing datasets\n",
        "# Batches examples of similar lengths together that minimizes amount of padding needed\n",
        "batch_size = 64  # Change batch size from 1 to bigger number once explanation is done\n",
        "train_loader, valid_loader, test_loader = data.BucketIterator.splits(\n",
        "    (ds_train, ds_valid, ds_test), batch_size=batch_size, sort_key=lambda x: len(x.text), repeat=False\n",
        ")"
      ]
    },
    {
      "cell_type": "code",
      "execution_count": 17,
      "metadata": {
        "colab": {
          "base_uri": "https://localhost:8080/"
        },
        "id": "qLRrVjTe3j82",
        "outputId": "ae90ecb6-9ef6-4e04-c624-afba3a14906e"
      },
      "outputs": [
        {
          "output_type": "stream",
          "name": "stderr",
          "text": [
            "/usr/local/lib/python3.7/dist-packages/ipykernel_launcher.py:2: DeprecationWarning: Using or importing the ABCs from 'collections' instead of from 'collections.abc' is deprecated since Python 3.3,and in 3.9 it will stop working\n",
            "  \n"
          ]
        },
        {
          "output_type": "execute_result",
          "data": {
            "text/plain": [
              "True"
            ]
          },
          "metadata": {},
          "execution_count": 17
        }
      ],
      "source": [
        "# Check if iterator above is an iterable which should show True\n",
        "isinstance(train_loader, collections.Iterable)"
      ]
    },
    {
      "cell_type": "code",
      "execution_count": 18,
      "metadata": {
        "colab": {
          "base_uri": "https://localhost:8080/"
        },
        "id": "w4i_6Z1w3j84",
        "outputId": "0ba0fcb1-27f0-48d3-e68d-c6f28823d6a6"
      },
      "outputs": [
        {
          "output_type": "execute_result",
          "data": {
            "text/plain": [
              "\n",
              "[torchtext.legacy.data.batch.Batch of size 64]\n",
              "\t[.text]:[torch.LongTensor of size 64x80]\n",
              "\t[.label]:[torch.FloatTensor of size 64]"
            ]
          },
          "metadata": {},
          "execution_count": 18
        }
      ],
      "source": [
        "# What's inside this iteratable object? Our text and label although now everything is in machine format (not \"words\") but in numbers!\n",
        "# The text we saw above becomes a matrix of size 1 x 80 represented by the fixed length we defined before that\n",
        "list(train_loader)[0]"
      ]
    },
    {
      "cell_type": "code",
      "execution_count": 19,
      "metadata": {
        "colab": {
          "base_uri": "https://localhost:8080/"
        },
        "id": "CEXBzumO3j86",
        "outputId": "2af3b990-df3d-41d2-dbf4-42c16e1a0bd3"
      },
      "outputs": [
        {
          "output_type": "execute_result",
          "data": {
            "text/plain": [
              "\n",
              "[torchtext.legacy.data.batch.Batch of size 64]\n",
              "\t[.text]:[torch.LongTensor of size 64x80]\n",
              "\t[.label]:[torch.FloatTensor of size 64]"
            ]
          },
          "metadata": {},
          "execution_count": 19
        }
      ],
      "source": [
        "# Alternative to above, this is much faster but the above code is easy to understand and implement\n",
        "next(train_loader.__iter__())"
      ]
    },
    {
      "cell_type": "code",
      "execution_count": 20,
      "metadata": {
        "id": "h222Hhwn3j88"
      },
      "outputs": [],
      "source": [
        "test_batch = next(train_loader.__iter__())"
      ]
    },
    {
      "cell_type": "code",
      "execution_count": 21,
      "metadata": {
        "colab": {
          "base_uri": "https://localhost:8080/"
        },
        "id": "J6b1p6yb3j8-",
        "outputId": "e7ed8ca8-8316-43d5-e4d5-23da7a13f1dd"
      },
      "outputs": [
        {
          "output_type": "execute_result",
          "data": {
            "text/plain": [
              "dict_keys(['text', 'label'])"
            ]
          },
          "metadata": {},
          "execution_count": 21
        }
      ],
      "source": [
        "# What methods can we call on this batch object? Text and label\n",
        "test_batch.fields"
      ]
    },
    {
      "cell_type": "code",
      "execution_count": 22,
      "metadata": {
        "colab": {
          "base_uri": "https://localhost:8080/"
        },
        "id": "5BCLHWhL3j9A",
        "outputId": "4d272864-5ada-4e11-ae95-90d48da0f9f4"
      },
      "outputs": [
        {
          "output_type": "execute_result",
          "data": {
            "text/plain": [
              "tensor([[  2,   0,   5,  ...,   5,  59,  84],\n",
              "        [  9, 225,  49,  ...,  12,  14, 163],\n",
              "        [796,  83,  23,  ...,   0,   4, 136],\n",
              "        ...,\n",
              "        [  0,  13, 167,  ...,  33,   0, 470],\n",
              "        [  2, 980,   5,  ...,   0,   2,  20],\n",
              "        [ 10,   7,   3,  ..., 266, 198,  44]])"
            ]
          },
          "metadata": {},
          "execution_count": 22
        }
      ],
      "source": [
        "# Let's break this down to check what's in a batch\n",
        "test_batch.text"
      ]
    },
    {
      "cell_type": "code",
      "execution_count": 23,
      "metadata": {
        "colab": {
          "base_uri": "https://localhost:8080/"
        },
        "id": "Y2zKod9e3j9C",
        "outputId": "6f92ecc0-7756-4ed7-96ce-c1084ed2401c"
      },
      "outputs": [
        {
          "output_type": "execute_result",
          "data": {
            "text/plain": [
              "torch.Size([64, 80])"
            ]
          },
          "metadata": {},
          "execution_count": 23
        }
      ],
      "source": [
        "# 1 comment per batch, each comment is limited to a size of 80 as we've defined\n",
        "test_batch.text.size()"
      ]
    },
    {
      "cell_type": "code",
      "execution_count": 24,
      "metadata": {
        "colab": {
          "base_uri": "https://localhost:8080/"
        },
        "id": "qgTS4FkN3j9D",
        "outputId": "03ee3641-9650-4377-f3b1-1f49baaa105a"
      },
      "outputs": [
        {
          "output_type": "execute_result",
          "data": {
            "text/plain": [
              "tensor([1., 0., 0., 1., 1., 0., 1., 1., 1., 1., 0., 0., 1., 0., 1., 0., 0., 0.,\n",
              "        1., 0., 1., 0., 0., 0., 1., 0., 1., 0., 0., 0., 0., 1., 0., 1., 1., 1.,\n",
              "        0., 1., 1., 0., 1., 1., 1., 0., 0., 0., 0., 0., 0., 1., 0., 1., 0., 0.,\n",
              "        1., 1., 0., 0., 0., 1., 0., 1., 0., 1.])"
            ]
          },
          "metadata": {},
          "execution_count": 24
        }
      ],
      "source": [
        "test_batch.label"
      ]
    },
    {
      "cell_type": "code",
      "execution_count": 25,
      "metadata": {
        "id": "FgNUJf2t3j9G"
      },
      "outputs": [],
      "source": [
        "# Extremely weird problem in torchtext where BucketIterator returns a Batch object versus just a simple tuple of tensors containing our text index and labels\n",
        "# So let's fix this with a new class FixBatchGenerator\n",
        "\n",
        "class FixBatchGenerator:\n",
        "    def __init__(self, dl, x_field, y_field):\n",
        "        self.dl, self.x_field, self.y_field = dl, x_field, y_field\n",
        "        \n",
        "    def __len__(self):\n",
        "        return len(self.dl)\n",
        "    \n",
        "    def __iter__(self):\n",
        "        for batch in self.dl:\n",
        "            X = getattr(batch, self.x_field)\n",
        "            y = getattr(batch, self.y_field)\n",
        "            yield (X,y)\n",
        "            \n",
        "train_loader, valid_loader, test_loader = FixBatchGenerator(train_loader, 'text', 'label'), FixBatchGenerator(valid_loader, 'text', 'label'), FixBatchGenerator(test_loader, 'text', 'label')"
      ]
    },
    {
      "cell_type": "code",
      "execution_count": 26,
      "metadata": {
        "colab": {
          "base_uri": "https://localhost:8080/"
        },
        "id": "_YXP9IKV3j9I",
        "outputId": "bb39e9d0-a3ed-498a-8ca2-3e5c9504f55f"
      },
      "outputs": [
        {
          "output_type": "stream",
          "name": "stdout",
          "text": [
            "tensor([[  9,  14, 203,  ...,  29, 162,  50],\n",
            "        [  8,   0,   5,  ...,   6,   0,   6],\n",
            "        [  0,   0,  41,  ...,  75, 301,  11],\n",
            "        ...,\n",
            "        [  8,  57,   0,  ...,   6, 887, 193],\n",
            "        [  9,  54, 102,  ...,   1,   1,   1],\n",
            "        [  0,   6, 110,  ...,   1,   1,   1]])\n",
            "tensor([1., 0., 0., 0., 1., 0., 0., 1., 1., 1., 0., 0., 1., 1., 0., 1., 0., 1.,\n",
            "        0., 1., 1., 1., 0., 1., 1., 1., 1., 0., 0., 1., 1., 0., 1., 1., 0., 0.,\n",
            "        0., 1., 1., 1., 1., 1., 0., 1., 1., 1., 0., 1., 1., 1., 1., 0., 0., 1.,\n",
            "        0., 0., 0., 0., 1., 1., 1., 0., 1., 0.])\n"
          ]
        }
      ],
      "source": [
        "# Text index\n",
        "print(next(train_loader.__iter__())[0])\n",
        "\n",
        "# Text label\n",
        "print(next(train_loader.__iter__())[1])"
      ]
    },
    {
      "cell_type": "code",
      "execution_count": 27,
      "metadata": {
        "id": "GRL8tm-A3j9J"
      },
      "outputs": [],
      "source": [
        "class FeedforwardNeuralNetModel(nn.Module):\n",
        "    def __init__(self, input_dim, embedding_dim, hidden_dim, output_dim):\n",
        "        super(FeedforwardNeuralNetModel, self).__init__()\n",
        "        # Embedding layer\n",
        "        self.embedding = nn.Embedding(input_dim, embedding_dim)\n",
        "        \n",
        "        # Linear function\n",
        "        self.fc1 = nn.Linear(embedding_dim*embedding_dim, hidden_dim) \n",
        "\n",
        "        # Linear function (readout)\n",
        "        self.fc2 = nn.Linear(hidden_dim, output_dim)\n",
        "        \n",
        "    def forward(self, x):\n",
        "        # Embedding\n",
        "        embedded = self.embedding(x)\n",
        "        embedded = embedded.view(-1, embedding_dim*embedding_dim)\n",
        "        # Linear function\n",
        "        out = self.fc1(embedded)\n",
        "\n",
        "        # Non-linearity\n",
        "        out = torch.relu(out)\n",
        "        \n",
        "        # Toggle 3: Dropout\n",
        "        # out = torch.dropout(out, 0.8)\n",
        "\n",
        "        # Linear function (readout)\n",
        "        # Take note here use a final sigmoid function so your loss should not go through sigmoid again.\n",
        "        # BCELoss is the right class to use as it doesn't pass your output through a sigmoid function again.\n",
        "        # In multi-class problems you're used to softmax which can be simplified to a logistic,\n",
        "        # function when you have a two-class problem.\n",
        "        out = self.fc2(out)\n",
        "        out = torch.sigmoid(out)\n",
        "    \n",
        "        return out"
      ]
    },
    {
      "cell_type": "code",
      "execution_count": 28,
      "metadata": {
        "id": "7Fr7GZNz3j9K"
      },
      "outputs": [],
      "source": [
        "input_dim = num_words + 2\n",
        "embedding_dim = max_len\n",
        "hidden_dim = 32\n",
        "output_dim = 1\n",
        "\n",
        "# Instantiate model class and assign to object\n",
        "model = FeedforwardNeuralNetModel(input_dim, embedding_dim, hidden_dim, output_dim)\n",
        "\n",
        "# Push model to CUDA device if available\n",
        "device = torch.device(\"cuda:0\" if torch.cuda.is_available() else \"cpu\")\n",
        "model.to(device)\n",
        "\n",
        "# Loss function\n",
        "criterion = nn.BCELoss()\n",
        "\n",
        "# Optimizer\n",
        "# Toggle 2: L2 Norm option - this is called weight decay\n",
        "# optimizer = torch.optim.Adam(model.parameters(), lr=1e-3, weight_decay=0.005)\n",
        "optimizer = torch.optim.Adam(model.parameters(), lr=1e-3)"
      ]
    },
    {
      "cell_type": "code",
      "execution_count": 29,
      "metadata": {
        "colab": {
          "base_uri": "https://localhost:8080/"
        },
        "id": "AwAqBSWf3j9M",
        "outputId": "c965af37-95f1-4ff1-d039-f4b9b32fefd6"
      },
      "outputs": [
        {
          "output_type": "stream",
          "name": "stdout",
          "text": [
            "Number of groups of parameters 5\n",
            "--------------------------------------------------\n",
            "torch.Size([1002, 80])\n",
            "torch.Size([32, 6400])\n",
            "torch.Size([32])\n",
            "torch.Size([1, 32])\n",
            "torch.Size([1])\n",
            "--------------------------------------------------\n"
          ]
        }
      ],
      "source": [
        "# Number of groups of parameters\n",
        "print('Number of groups of parameters {}'.format(len(list(model.parameters()))))\n",
        "print('-'*50)\n",
        "# Print parameters\n",
        "for i in range(len(list(model.parameters()))):\n",
        "    print(list(model.parameters())[i].size())\n",
        "print('-'*50)"
      ]
    },
    {
      "cell_type": "code",
      "execution_count": 30,
      "metadata": {
        "scrolled": true,
        "colab": {
          "base_uri": "https://localhost:8080/"
        },
        "id": "K2-WLkCU3j9N",
        "outputId": "4052004d-ade1-4726-ea39-d8d33be9ce20"
      },
      "outputs": [
        {
          "output_type": "stream",
          "name": "stdout",
          "text": [
            "Iter: 100 | Train Loss: 0.6868387460708618 | Val Loss: 0.6455690264701843 | Val Accuracy: 55.27\n",
            "Iter: 200 | Train Loss: 0.6797102689743042 | Val Loss: 0.6845245957374573 | Val Accuracy: 56.93\n",
            "Iter: 300 | Train Loss: 0.6051220297813416 | Val Loss: 0.7657496929168701 | Val Accuracy: 57.23\n",
            "Iter: 400 | Train Loss: 0.6052548885345459 | Val Loss: 0.8602702021598816 | Val Accuracy: 59.96\n",
            "Iter: 500 | Train Loss: 0.547983705997467 | Val Loss: 0.7520858645439148 | Val Accuracy: 61.03\n",
            "Iter: 600 | Train Loss: 0.4914447069168091 | Val Loss: 0.9345135688781738 | Val Accuracy: 62.37\n",
            "Iter: 700 | Train Loss: 0.4953683912754059 | Val Loss: 1.027277946472168 | Val Accuracy: 63.21\n",
            "Iter: 800 | Train Loss: 0.4460093379020691 | Val Loss: 1.02031409740448 | Val Accuracy: 64.12\n",
            "Iter: 900 | Train Loss: 0.24938015639781952 | Val Loss: 0.7863388657569885 | Val Accuracy: 64.49\n",
            "Iter: 1000 | Train Loss: 0.43602392077445984 | Val Loss: 0.8760393261909485 | Val Accuracy: 64.0\n",
            "Iter: 1100 | Train Loss: 0.15842227637767792 | Val Loss: 0.9095723628997803 | Val Accuracy: 64.23\n",
            "Iter: 1200 | Train Loss: 0.17298093438148499 | Val Loss: 1.1171313524246216 | Val Accuracy: 64.35\n",
            "Iter: 1300 | Train Loss: 0.09415335953235626 | Val Loss: 1.2067217826843262 | Val Accuracy: 63.68\n",
            "Iter: 1400 | Train Loss: 0.09591836482286453 | Val Loss: 1.325922966003418 | Val Accuracy: 65.01\n",
            "Iter: 1500 | Train Loss: 0.03948269784450531 | Val Loss: 1.3160908222198486 | Val Accuracy: 64.61\n",
            "Iter: 1600 | Train Loss: 0.08010121434926987 | Val Loss: 1.392434000968933 | Val Accuracy: 64.55\n",
            "Iter: 1700 | Train Loss: 0.016793251037597656 | Val Loss: 1.3432793617248535 | Val Accuracy: 64.36\n",
            "Iter: 1800 | Train Loss: 0.03529452532529831 | Val Loss: 1.3392915725708008 | Val Accuracy: 64.65\n",
            "Iter: 1900 | Train Loss: 0.04164080694317818 | Val Loss: 1.3269426822662354 | Val Accuracy: 64.59\n",
            "Iter: 2000 | Train Loss: 0.005463702138513327 | Val Loss: 1.3973504304885864 | Val Accuracy: 64.16\n",
            "Iter: 2100 | Train Loss: 0.03947659581899643 | Val Loss: 1.4481920003890991 | Val Accuracy: 64.4\n",
            "Iter: 2200 | Train Loss: 0.01140625961124897 | Val Loss: 1.3498543500900269 | Val Accuracy: 64.53\n",
            "Iter: 2300 | Train Loss: 0.009255562908947468 | Val Loss: 1.4058674573898315 | Val Accuracy: 64.32\n",
            "Iter: 2400 | Train Loss: 0.0035227860789746046 | Val Loss: 1.3665281534194946 | Val Accuracy: 64.72\n",
            "Iter: 2500 | Train Loss: 0.013574392534792423 | Val Loss: 1.4371957778930664 | Val Accuracy: 64.55\n",
            "Iter: 2600 | Train Loss: 0.0031537464819848537 | Val Loss: 1.402957797050476 | Val Accuracy: 64.91\n",
            "Iter: 2700 | Train Loss: 0.003442201064899564 | Val Loss: 1.514732837677002 | Val Accuracy: 64.72\n"
          ]
        }
      ],
      "source": [
        "iter = 0\n",
        "num_epochs = 10\n",
        "history_train_acc, history_val_acc, history_train_loss, history_val_loss = [], [], [], []\n",
        "best_accuracy = 0\n",
        "for epoch in range(num_epochs):\n",
        "#     print('-'*50)\n",
        "    for i, (samples, labels) in enumerate(train_loader):\n",
        "        # Training mode\n",
        "        model.train()\n",
        "        \n",
        "        # Load samples\n",
        "        samples = samples.view(-1, max_len).to(device)\n",
        "        labels = labels.view(-1, 1).to(device)\n",
        "\n",
        "        # Clear gradients w.r.t. parameters\n",
        "        optimizer.zero_grad()\n",
        "\n",
        "        # Forward pass to get output/logits\n",
        "        outputs = model(samples)\n",
        "\n",
        "        # Calculate Loss: softmax --> cross entropy loss\n",
        "        loss = criterion(outputs, labels)\n",
        "        \n",
        "        # Toggle 1: L1 norm, add to original loss\n",
        "        # fc1_params = torch.cat([x.view(-1) for x in model.fc1.parameters()])\n",
        "        # loss += 0.001 * torch.norm(fc1_params, 1)\n",
        "    \n",
        "        # Getting gradients w.r.t. parameters\n",
        "        loss.backward()\n",
        "\n",
        "        # Updating parameters\n",
        "        optimizer.step()\n",
        "\n",
        "        iter += 1\n",
        "\n",
        "        if iter % 100 == 0:\n",
        "            # Get training statistics\n",
        "            train_loss = loss.data.item()\n",
        "            \n",
        "            # Testing mode\n",
        "            model.eval()\n",
        "            # Calculate Accuracy         \n",
        "            correct = 0\n",
        "            total = 0\n",
        "            # Iterate through test dataset\n",
        "            for samples, labels in valid_loader:\n",
        "                # Load samples\n",
        "                samples = samples.view(-1, max_len).to(device)\n",
        "                labels = labels.view(-1).to(device)\n",
        "\n",
        "                # Forward pass only to get logits/output\n",
        "                outputs = model(samples)\n",
        "                \n",
        "                # Val loss\n",
        "                val_loss = criterion(outputs.view(-1, 1), labels.view(-1, 1))\n",
        "                \n",
        "                # We use a threshold to define. \n",
        "                # There is another way to do this with one-hot label. Feel free to explore and understand what are the pros/cons of each.\n",
        "                # This opens up a whole topic on why it becomes problematic when we expand beyond 2 class to 10 classes.\n",
        "                # Why do we encode? Why can't we do 0, 1, 2, 3, 4 etc. without one-hot encoding?\n",
        "                predicted = outputs.ge(0.5).view(-1)\n",
        "\n",
        "                # Total number of labels\n",
        "                total += labels.size(0)\n",
        "\n",
        "                # Total correct predictions\n",
        "                correct += (predicted.type(torch.FloatTensor).cpu() == labels.type(torch.FloatTensor)).sum().item()\n",
        "                # correct = (predicted == labels.byte()).int().sum().item()\n",
        "            \n",
        "            accuracy = 100. * correct / total\n",
        "        \n",
        "            # Print Loss\n",
        "            print('Iter: {} | Train Loss: {} | Val Loss: {} | Val Accuracy: {}'.format(iter, train_loss, val_loss.item(), round(accuracy, 2)))\n",
        "            \n",
        "            # Append to history\n",
        "            history_val_loss.append(val_loss.data.item())\n",
        "            history_val_acc.append(round(accuracy, 2))\n",
        "            history_train_loss.append(train_loss)\n",
        "            \n",
        "            # Save model when accuracy beats best accuracy\n",
        "            if accuracy > best_accuracy:\n",
        "                best_accuracy = accuracy\n",
        "                # We can load this best model on the validation set later\n",
        "                torch.save(model.state_dict(), 'best_model.pth')"
      ]
    },
    {
      "cell_type": "code",
      "execution_count": 31,
      "metadata": {
        "colab": {
          "base_uri": "https://localhost:8080/",
          "height": 279
        },
        "id": "-0taYe713j9Q",
        "outputId": "d5ae9cac-ba0e-4c6d-c57a-ed1d02a48882"
      },
      "outputs": [
        {
          "output_type": "display_data",
          "data": {
            "text/plain": [
              "<Figure size 1152x288 with 1 Axes>"
            ],
            "image/png": "[encoded data removed]"
          },
          "metadata": {}
        }
      ],
      "source": [
        "# Plotting loss graph\n",
        "plt.plot(history_train_loss, label='Train')\n",
        "plt.plot(history_val_loss, label='Validation')\n",
        "plt.title('Loss Graph')\n",
        "plt.legend()\n",
        "plt.show()"
      ]
    },
    {
      "cell_type": "code",
      "execution_count": 32,
      "metadata": {
        "colab": {
          "base_uri": "https://localhost:8080/",
          "height": 296
        },
        "id": "KK3nFYxb3j9R",
        "outputId": "4241cc89-1570-4b0e-8238-dc0b0a4c1de1"
      },
      "outputs": [
        {
          "output_type": "execute_result",
          "data": {
            "text/plain": [
              "Text(0.5, 1.0, 'Validation Accuracy')"
            ]
          },
          "metadata": {},
          "execution_count": 32
        },
        {
          "output_type": "display_data",
          "data": {
            "text/plain": [
              "<Figure size 1152x288 with 1 Axes>"
            ],
            "image/png": "[encoded data removed]"
          },
          "metadata": {}
        }
      ],
      "source": [
        "# Plotting validation accuracy graph\n",
        "plt.plot(history_val_acc)\n",
        "plt.title('Validation Accuracy')"
      ]
    },
    {
      "cell_type": "code",
      "execution_count": 35,
      "metadata": {
        "colab": {
          "base_uri": "https://localhost:8080/"
        },
        "id": "b_0q8e5m3j9W",
        "outputId": "51eaeea9-4511-4420-9221-db4aad22e0fd"
      },
      "outputs": [
        {
          "output_type": "stream",
          "name": "stdout",
          "text": [
            "torch.Size([1002, 80])\n",
            "torch.Size([32, 6400])\n",
            "torch.Size([32])\n",
            "torch.Size([1, 32])\n",
            "torch.Size([1])\n"
          ]
        }
      ],
      "source": [
        "weights = torch.Tensor().to(device)\n",
        "for param_group in list(model.parameters()):\n",
        "    weights = torch.cat((param_group.view(-1), weights))\n",
        "    print(param_group.size())\n",
        "    \n",
        "# Toggle 0: No regularization\n",
        "weights_nothing = weights.cpu().detach().numpy()\n",
        "\n",
        "# Toggle 1: L1 norm on FC1\n",
        "weights_L1 = weights.detach().numpy()\n",
        "\n",
        "# Toggle 2: L2 norm\n",
        "weights_L2 = weights.detach().numpy()\n",
        "\n",
        "# Toggle 3: dropout\n",
        "weights_dropout = weights.detach().numpy()"
      ]
    },
    {
      "cell_type": "code",
      "execution_count": 36,
      "metadata": {
        "colab": {
          "base_uri": "https://localhost:8080/",
          "height": 381
        },
        "id": "Kzk1IEwR3j9Y",
        "outputId": "3be3a1ad-c5ff-4fa3-e2bc-d9abbabd6cff"
      },
      "outputs": [
        {
          "output_type": "execute_result",
          "data": {
            "text/plain": [
              "(array([ 1405.,  1501.,  1500.,  1478.,  1556.,  1669.,  2121.,  6057.,\n",
              "        26417., 74103., 74032., 26263.,  6160.,  2047.,  1667.,  1444.,\n",
              "         1466.,  1396.,  1466.,  1369.]),\n",
              " array([-0.5 , -0.45, -0.4 , -0.35, -0.3 , -0.25, -0.2 , -0.15, -0.1 ,\n",
              "        -0.05,  0.  ,  0.05,  0.1 ,  0.15,  0.2 ,  0.25,  0.3 ,  0.35,\n",
              "         0.4 ,  0.45,  0.5 ], dtype=float32),\n",
              " <a list of 20 Patch objects>)"
            ]
          },
          "metadata": {},
          "execution_count": 36
        },
        {
          "output_type": "display_data",
          "data": {
            "text/plain": [
              "<Figure size 1152x288 with 1 Axes>"
            ],
            "image/png": "[encoded data removed]"
          },
          "metadata": {}
        }
      ],
      "source": [
        "plt.hist(weights_L1.reshape(-1), range=(-.5, .5), bins=20)"
      ]
    },
    {
      "cell_type": "code",
      "execution_count": 37,
      "metadata": {
        "colab": {
          "base_uri": "https://localhost:8080/",
          "height": 381
        },
        "id": "VGG7W2eu3j9a",
        "outputId": "b4684c5b-e001-4729-a142-d25386126391"
      },
      "outputs": [
        {
          "output_type": "execute_result",
          "data": {
            "text/plain": [
              "(array([ 1405.,  1501.,  1500.,  1478.,  1556.,  1669.,  2121.,  6057.,\n",
              "        26417., 74103., 74032., 26263.,  6160.,  2047.,  1667.,  1444.,\n",
              "         1466.,  1396.,  1466.,  1369.]),\n",
              " array([-0.5 , -0.45, -0.4 , -0.35, -0.3 , -0.25, -0.2 , -0.15, -0.1 ,\n",
              "        -0.05,  0.  ,  0.05,  0.1 ,  0.15,  0.2 ,  0.25,  0.3 ,  0.35,\n",
              "         0.4 ,  0.45,  0.5 ], dtype=float32),\n",
              " <a list of 20 Patch objects>)"
            ]
          },
          "metadata": {},
          "execution_count": 37
        },
        {
          "output_type": "display_data",
          "data": {
            "text/plain": [
              "<Figure size 1152x288 with 1 Axes>"
            ],
            "image/png": "[encoded data removed]"
          },
          "metadata": {}
        }
      ],
      "source": [
        "plt.hist(weights_nothing.reshape(-1), range=(-.5, .5), bins=20)"
      ]
    },
    {
      "cell_type": "code",
      "execution_count": 38,
      "metadata": {
        "colab": {
          "base_uri": "https://localhost:8080/",
          "height": 262
        },
        "id": "Msw21jvd3j9c",
        "outputId": "e83c7996-9aeb-4a80-a32c-f1da8b0b0391"
      },
      "outputs": [
        {
          "output_type": "display_data",
          "data": {
            "text/plain": [
              "<Figure size 1152x288 with 1 Axes>"
            ],
            "image/png": "[encoded data removed]"
          },
          "metadata": {}
        }
      ],
      "source": [
        "# Show weight distribution\n",
        "plt.hist((\n",
        "    weights_nothing.reshape(-1),\n",
        "    weights_L1.reshape(-1),\n",
        "    weights_L2.reshape(-1),\n",
        "), 49, range=(-.5, .5), label=(\n",
        "    'No-reg',\n",
        "    'L1',\n",
        "    'L2',\n",
        "))\n",
        "plt.legend();"
      ]
    }
  ],
  "metadata": {
    "kernelspec": {
      "display_name": "Python [conda env:dl-minicourse] *",
      "language": "python",
      "name": "conda-env-dl-minicourse-py"
    },
    "language_info": {
      "codemirror_mode": {
        "name": "ipython",
        "version": 3
      },
      "file_extension": ".py",
      "mimetype": "text/x-python",
      "name": "python",
      "nbconvert_exporter": "python",
      "pygments_lexer": "ipython3",
      "version": "3.7.3"
    },
    "colab": {
      "provenance": []
    }
  },
  "nbformat": 4,
  "nbformat_minor": 0
}